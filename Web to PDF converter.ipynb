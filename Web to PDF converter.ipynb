{
 "cells": [
  {
   "cell_type": "markdown",
   "metadata": {},
   "source": [
    "# Do not touch"
   ]
  },
  {
   "cell_type": "code",
   "execution_count": 104,
   "metadata": {},
   "outputs": [],
   "source": [
    "# Imports\n",
    "import pdfkit\n",
    "import PyPDF2\n",
    "import tempfile\n",
    "import os"
   ]
  },
  {
   "cell_type": "markdown",
   "metadata": {},
   "source": [
    "# Also do not touch"
   ]
  },
  {
   "cell_type": "code",
   "execution_count": 123,
   "metadata": {},
   "outputs": [],
   "source": [
    "# Defining a function to convert web pages to pdf\n",
    "def convert_webpages_to_pdf(websites, output_filename):\n",
    "    # Create a temporary directory to store temporary PDF files\n",
    "    temp_dir = tempfile.mkdtemp()\n",
    "    temp_pdf_files = []\n",
    "\n",
    "    try:\n",
    "        # Set options for wkhtmltopdf\n",
    "        options = {\n",
    "            'page-size': 'A4',\n",
    "            'margin-top': '20mm',\n",
    "            'margin-right': '10mm',\n",
    "            'margin-bottom': '20mm',\n",
    "            'margin-left': '10mm',\n",
    "            'user-style-sheet': custom_css\n",
    "        }\n",
    "\n",
    "        # Convert each webpage to PDF and append to the list\n",
    "        for idx, website in enumerate(websites):\n",
    "            pdf_filename = os.path.join(temp_dir, f'temp_{idx}.pdf')\n",
    "            pdfkit.from_url(website, pdf_filename, options=options)\n",
    "            temp_pdf_files.append(pdf_filename)\n",
    "\n",
    "        # Merge all the PDFs into a single PDF\n",
    "        pdf_merger = PyPDF2.PdfMerger()\n",
    "\n",
    "        for pdf_file in temp_pdf_files:\n",
    "            pdf_merger.append(pdf_file)\n",
    "\n",
    "        # Write the merged PDF to the output file\n",
    "        with open(output_filename, 'wb') as output_file:\n",
    "            pdf_merger.write(output_file)\n",
    "    \n",
    "    finally:\n",
    "        # Clean up temporary files and directory\n",
    "        for pdf_file in temp_pdf_files:\n",
    "            os.remove(pdf_file)\n",
    "        os.rmdir(temp_dir)"
   ]
  },
  {
   "cell_type": "markdown",
   "metadata": {},
   "source": [
    "## Custom CSS"
   ]
  },
  {
   "cell_type": "markdown",
   "metadata": {},
   "source": [
    "Edit **user_name**, **location**, **folder** and **custom_css**"
   ]
  },
  {
   "cell_type": "code",
   "execution_count": 135,
   "metadata": {},
   "outputs": [],
   "source": [
    "# Define path to the custom css file\n",
    "user_name = 'nadiaholmlundnielsen'\n",
    "location = 'Desktop'\n",
    "folder = 'Libraries/Custom css'\n",
    "custom_css = 'seaborn_custom' # Available css: numpy_custom, pandas_custom, matplotlib_custom, seaborn_custom\n",
    "\n",
    "# Defining custom css\n",
    "custom_css = f'/Users/{user_name}/{location}/{folder}/{custom_css}.css'"
   ]
  },
  {
   "cell_type": "markdown",
   "metadata": {},
   "source": [
    "## Library Website"
   ]
  },
  {
   "cell_type": "markdown",
   "metadata": {},
   "source": [
    "Edit **website** and **commands** accordingly"
   ]
  },
  {
   "cell_type": "code",
   "execution_count": 139,
   "metadata": {},
   "outputs": [],
   "source": [
    "# Library websites\n",
    "numpy_web = 'https://numpy.org/doc/stable/reference/generated/numpy'\n",
    "pandas_web = 'https://pandas.pydata.org/pandas-docs/stable/reference/api/pandas'\n",
    "matplotlib_web = 'https://matplotlib.org/stable/api/_as_gen/matplotlib.pyplot'\n",
    "seaborn_web = 'https://seaborn.pydata.org/generated/seaborn'\n",
    "\n",
    "# Select the library website and insert the required commands\n",
    "website = seaborn_web # Available library websites: numpy_web, pandas_web, matplotlib_web, seaborn_web\n",
    "commands = ['barplot', 'heatmap']\n",
    "\n",
    "# Create a list of websites to be saved and merged\n",
    "websites = [f'{website}.{command}.html' for command in commands]"
   ]
  },
  {
   "cell_type": "markdown",
   "metadata": {},
   "source": [
    "## Run below to convert web to PDF"
   ]
  },
  {
   "cell_type": "markdown",
   "metadata": {},
   "source": [
    "Edit **folder** and **file_name** accordingly"
   ]
  },
  {
   "cell_type": "code",
   "execution_count": 140,
   "metadata": {},
   "outputs": [],
   "source": [
    "# Define path to save the merged PDF document\n",
    "folder = 'Libraries/Documentation'\n",
    "file_name = 'Seaborn Documentation'\n",
    "\n",
    "# Construct the output PDF filename using the variables\n",
    "output_pdf_filename = f'/Users/{user_name}/{location}/{folder}/{file_name}.pdf'"
   ]
  },
  {
   "cell_type": "code",
   "execution_count": 141,
   "metadata": {},
   "outputs": [],
   "source": [
    "# Convert webpages to PDF files\n",
    "convert_webpages_to_pdf(websites, output_pdf_filename)"
   ]
  },
  {
   "cell_type": "code",
   "execution_count": null,
   "metadata": {},
   "outputs": [],
   "source": []
  }
 ],
 "metadata": {
  "kernelspec": {
   "display_name": "base",
   "language": "python",
   "name": "python3"
  },
  "language_info": {
   "codemirror_mode": {
    "name": "ipython",
    "version": 3
   },
   "file_extension": ".py",
   "mimetype": "text/x-python",
   "name": "python",
   "nbconvert_exporter": "python",
   "pygments_lexer": "ipython3",
   "version": "3.9.13"
  },
  "orig_nbformat": 4
 },
 "nbformat": 4,
 "nbformat_minor": 2
}
